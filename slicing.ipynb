{
 "cells": [
  {
   "cell_type": "code",
   "execution_count": 1,
   "source": [
    "import numpy as np \r\n",
    "a = np.arange(10) \r\n",
    "s = slice(2,7,2) \r\n",
    "print (a[s])"
   ],
   "outputs": [
    {
     "output_type": "stream",
     "name": "stdout",
     "text": [
      "[2 4 6]\n"
     ]
    }
   ],
   "metadata": {}
  },
  {
   "cell_type": "code",
   "execution_count": 2,
   "source": [
    "import numpy as np \r\n",
    "a = np.arange(10) \r\n",
    "b = a[2:7:2] \r\n",
    "print (b)"
   ],
   "outputs": [
    {
     "output_type": "stream",
     "name": "stdout",
     "text": [
      "[2 4 6]\n"
     ]
    }
   ],
   "metadata": {}
  },
  {
   "cell_type": "code",
   "execution_count": 4,
   "source": [
    "# slice single item \r\n",
    "import numpy as np \r\n",
    "\r\n",
    "a = np.arange(10) \r\n",
    "b = a[5] \r\n",
    "print (b)"
   ],
   "outputs": [
    {
     "output_type": "stream",
     "name": "stdout",
     "text": [
      "5\n"
     ]
    }
   ],
   "metadata": {}
  },
  {
   "cell_type": "code",
   "execution_count": 5,
   "source": [
    "# slice items starting from index \r\n",
    "import numpy as np \r\n",
    "a = np.arange(10) \r\n",
    "print (a[2:])"
   ],
   "outputs": [
    {
     "output_type": "stream",
     "name": "stdout",
     "text": [
      "[2 3 4 5 6 7 8 9]\n"
     ]
    }
   ],
   "metadata": {}
  },
  {
   "cell_type": "code",
   "execution_count": 7,
   "source": [
    "# array to begin with \r\n",
    "import numpy as np \r\n",
    "a = np.array([[1,2,3],[3,4,5],[4,5,6]]) \r\n",
    "\r\n",
    "print ('Our array is:') \r\n",
    "print (a) \r\n",
    "print ('\\n')  \r\n",
    "\r\n",
    "# this returns array of items in the second column \r\n",
    "print ('The items in the second column are:')  \r\n",
    "print (a[...,1]) \r\n",
    "print ('\\n')  \r\n",
    "\r\n",
    "# Now we will slice all items from the second row \r\n",
    "print ('The items in the second row are:') \r\n",
    "print (a[1,...] )\r\n",
    "print ('\\n')  \r\n",
    "\r\n",
    "# Now we will slice all items from column 1 onwards \r\n",
    "print ('The items column 1 onwards are:') \r\n",
    "print (a[...,1:])"
   ],
   "outputs": [
    {
     "output_type": "stream",
     "name": "stdout",
     "text": [
      "Our array is:\n",
      "[[1 2 3]\n",
      " [3 4 5]\n",
      " [4 5 6]]\n",
      "\n",
      "\n",
      "The items in the second column are:\n",
      "[2 4 5]\n",
      "\n",
      "\n",
      "The items in the second row are:\n",
      "[3 4 5]\n",
      "\n",
      "\n",
      "The items column 1 onwards are:\n",
      "[[2 3]\n",
      " [4 5]\n",
      " [5 6]]\n"
     ]
    }
   ],
   "metadata": {}
  },
  {
   "cell_type": "code",
   "execution_count": 1,
   "source": [
    "import numpy as np \r\n",
    "\r\n",
    "x = np.array([[1, 2], [3, 4], [5, 6]]) \r\n",
    "y = x[[0,1,2], [0,1,0]] \r\n",
    "print  (y)"
   ],
   "outputs": [
    {
     "output_type": "stream",
     "name": "stdout",
     "text": [
      "[1 4 5]\n"
     ]
    }
   ],
   "metadata": {}
  },
  {
   "cell_type": "code",
   "execution_count": 2,
   "source": [
    "import numpy as np \r\n",
    "x = np.array([[ 0,  1,  2],[ 3,  4,  5],[ 6,  7,  8],[ 9, 10, 11]]) \r\n",
    "   \r\n",
    "print ('Our array is:') \r\n",
    "print (x) \r\n",
    "print ('\\n')\r\n",
    "\r\n",
    "rows = np.array([[0,0],[3,3]])\r\n",
    "cols = np.array([[0,2],[0,2]]) \r\n",
    "y = x[rows,cols] \r\n",
    "   \r\n",
    "print ('The corner elements of this array are:') \r\n",
    "print (y)"
   ],
   "outputs": [
    {
     "output_type": "stream",
     "name": "stdout",
     "text": [
      "Our array is:\n",
      "[[ 0  1  2]\n",
      " [ 3  4  5]\n",
      " [ 6  7  8]\n",
      " [ 9 10 11]]\n",
      "\n",
      "\n",
      "The corner elements of this array are:\n",
      "[[ 0  2]\n",
      " [ 9 11]]\n"
     ]
    }
   ],
   "metadata": {}
  },
  {
   "cell_type": "code",
   "execution_count": 3,
   "source": [
    "import numpy as np \r\n",
    "x = np.array([[ 0,  1,  2],[ 3,  4,  5],[ 6,  7,  8],[ 9, 10, 11]]) \r\n",
    "\r\n",
    "print ('Our array is:') \r\n",
    "print (x) \r\n",
    "print ('\\n')  \r\n",
    "\r\n",
    "# slicing \r\n",
    "z = x[1:4,1:3] \r\n",
    "\r\n",
    "print ('After slicing, our array becomes:') \r\n",
    "print (z )\r\n",
    "print ('\\n')  \r\n",
    "\r\n",
    "# using advanced index for column \r\n",
    "y = x[1:4,[1,2]] \r\n",
    "\r\n",
    "print ('Slicing using advanced index for column:') \r\n",
    "print (y)"
   ],
   "outputs": [
    {
     "output_type": "stream",
     "name": "stdout",
     "text": [
      "Our array is:\n",
      "[[ 0  1  2]\n",
      " [ 3  4  5]\n",
      " [ 6  7  8]\n",
      " [ 9 10 11]]\n",
      "\n",
      "\n",
      "After slicing, our array becomes:\n",
      "[[ 4  5]\n",
      " [ 7  8]\n",
      " [10 11]]\n",
      "\n",
      "\n",
      "Slicing using advanced index for column:\n",
      "[[ 4  5]\n",
      " [ 7  8]\n",
      " [10 11]]\n"
     ]
    }
   ],
   "metadata": {}
  },
  {
   "cell_type": "code",
   "execution_count": 4,
   "source": [
    "import numpy as np \r\n",
    "x = np.array([[ 0,  1,  2],[ 3,  4,  5],[ 6,  7,  8],[ 9, 10, 11]]) \r\n",
    "\r\n",
    "print ('Our array is:') \r\n",
    "print ( x )\r\n",
    "print ('\\n')  \r\n",
    "\r\n",
    "# Now we will print the items greater than 5 \r\n",
    "print ('The items greater than 5 are:') \r\n",
    "print (x[x > 5])"
   ],
   "outputs": [
    {
     "output_type": "stream",
     "name": "stdout",
     "text": [
      "Our array is:\n",
      "[[ 0  1  2]\n",
      " [ 3  4  5]\n",
      " [ 6  7  8]\n",
      " [ 9 10 11]]\n",
      "\n",
      "\n",
      "The items greater than 5 are:\n",
      "[ 6  7  8  9 10 11]\n"
     ]
    }
   ],
   "metadata": {}
  },
  {
   "cell_type": "code",
   "execution_count": 5,
   "source": [
    "import numpy as np \r\n",
    "a = np.array([np.nan, 1,2,np.nan,3,4,5]) \r\n",
    "print (a[~np.isnan(a)])"
   ],
   "outputs": [
    {
     "output_type": "stream",
     "name": "stdout",
     "text": [
      "[1. 2. 3. 4. 5.]\n"
     ]
    }
   ],
   "metadata": {}
  },
  {
   "cell_type": "code",
   "execution_count": 13,
   "source": [
    "import numpy as np \r\n",
    "a = np.array([1, 2+6j, 5, 3.5+5j]) \r\n",
    "print (a[np.iscomplex(a)])"
   ],
   "outputs": [
    {
     "output_type": "stream",
     "name": "stdout",
     "text": [
      "[2. +6.j 3.5+5.j]\n"
     ]
    }
   ],
   "metadata": {}
  },
  {
   "cell_type": "code",
   "execution_count": 10,
   "source": [
    "import numpy as np \r\n",
    "\r\n",
    "a = np.array([1,2,3,4]) \r\n",
    "b = np.array([10,20,30,40]) \r\n",
    "c = a * b \r\n",
    "print (*c)"
   ],
   "outputs": [
    {
     "output_type": "stream",
     "name": "stdout",
     "text": [
      "10 40 90 160\n"
     ]
    }
   ],
   "metadata": {}
  },
  {
   "cell_type": "code",
   "execution_count": null,
   "source": [],
   "outputs": [],
   "metadata": {}
  },
  {
   "cell_type": "code",
   "execution_count": null,
   "source": [],
   "outputs": [],
   "metadata": {}
  },
  {
   "cell_type": "code",
   "execution_count": null,
   "source": [],
   "outputs": [],
   "metadata": {}
  },
  {
   "cell_type": "code",
   "execution_count": null,
   "source": [],
   "outputs": [],
   "metadata": {}
  },
  {
   "cell_type": "code",
   "execution_count": null,
   "source": [],
   "outputs": [],
   "metadata": {}
  },
  {
   "cell_type": "code",
   "execution_count": null,
   "source": [],
   "outputs": [],
   "metadata": {}
  },
  {
   "cell_type": "code",
   "execution_count": null,
   "source": [],
   "outputs": [],
   "metadata": {}
  },
  {
   "cell_type": "code",
   "execution_count": null,
   "source": [],
   "outputs": [],
   "metadata": {}
  },
  {
   "cell_type": "code",
   "execution_count": null,
   "source": [],
   "outputs": [],
   "metadata": {}
  }
 ],
 "metadata": {
  "orig_nbformat": 4,
  "language_info": {
   "name": "python",
   "version": "3.9.5",
   "mimetype": "text/x-python",
   "codemirror_mode": {
    "name": "ipython",
    "version": 3
   },
   "pygments_lexer": "ipython3",
   "nbconvert_exporter": "python",
   "file_extension": ".py"
  },
  "kernelspec": {
   "name": "python3",
   "display_name": "Python 3.9.5 64-bit"
  },
  "interpreter": {
   "hash": "63fd5069d213b44bf678585dea6b12cceca9941eaf7f819626cde1f2670de90d"
  }
 },
 "nbformat": 4,
 "nbformat_minor": 2
}