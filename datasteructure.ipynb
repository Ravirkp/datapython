{
 "cells": [
  {
   "cell_type": "code",
   "execution_count": 9,
   "source": [
    "l = [1, 2, 3, 4, 5 ]\r\n",
    "print(l)\r\n",
    "print(l[0])\r\n",
    "print(l[1])\r\n",
    "print(l[2])\r\n",
    "print(l[3])\r\n",
    "print(l[4])"
   ],
   "outputs": [
    {
     "output_type": "stream",
     "name": "stdout",
     "text": [
      "[1, 2, 3, 4, 5]\n",
      "1\n",
      "2\n",
      "3\n",
      "4\n",
      "5\n"
     ]
    }
   ],
   "metadata": {}
  },
  {
   "cell_type": "code",
   "execution_count": 10,
   "source": [
    "print(l[1:4:2])\r\n",
    "print(l[:4:2])\r\n",
    "print(l[1::2])\r\n",
    "print(l[::2])"
   ],
   "outputs": [
    {
     "output_type": "stream",
     "name": "stdout",
     "text": [
      "[2, 4]\n",
      "[1, 3]\n",
      "[2, 4]\n",
      "[1, 3, 5]\n"
     ]
    }
   ],
   "metadata": {}
  },
  {
   "cell_type": "code",
   "execution_count": 15,
   "source": [
    "print(l)\r\n",
    "l[0]=34\r\n",
    "print(l)\r\n",
    "print(max(l))\r\n",
    "print(min(l))\r\n",
    "print(len(l))\r\n",
    "print(list(range(5)))"
   ],
   "outputs": [
    {
     "output_type": "stream",
     "name": "stdout",
     "text": [
      "[34, 2, 3, 4, 5]\n",
      "[34, 2, 3, 4, 5]\n",
      "34\n",
      "2\n",
      "5\n",
      "[0, 1, 2, 3, 4]\n"
     ]
    }
   ],
   "metadata": {}
  },
  {
   "cell_type": "code",
   "execution_count": null,
   "source": [
    "l.append(56)\r\n",
    "print(l)\r\n",
    "print(l.count(5))\r\n"
   ],
   "outputs": [],
   "metadata": {}
  },
  {
   "cell_type": "code",
   "execution_count": 15,
   "source": [
    "del l[0]\r\n",
    "print(l)"
   ],
   "outputs": [
    {
     "output_type": "stream",
     "name": "stdout",
     "text": [
      "[2, 3, 4, 5]\n"
     ]
    }
   ],
   "metadata": {}
  },
  {
   "cell_type": "code",
   "execution_count": 18,
   "source": [
    "x = range(5)\r\n",
    "print(x)"
   ],
   "outputs": [
    {
     "output_type": "stream",
     "name": "stdout",
     "text": [
      "range(0, 5)\n"
     ]
    }
   ],
   "metadata": {}
  },
  {
   "cell_type": "code",
   "execution_count": 1,
   "source": [
    "x= (1,4)\r\n",
    "print(x)\r\n",
    "print(x*2)"
   ],
   "outputs": [
    {
     "output_type": "stream",
     "name": "stdout",
     "text": [
      "(1, 4)\n",
      "(1, 4, 1, 4)\n"
     ]
    }
   ],
   "metadata": {}
  },
  {
   "cell_type": "code",
   "execution_count": 1,
   "source": [
    "t= (1,3,5,7,8,9,67,53,24)\r\n",
    "print(t[4])\r\n",
    "print(t[3:6])"
   ],
   "outputs": [
    {
     "output_type": "stream",
     "name": "stdout",
     "text": [
      "8\n",
      "(7, 8, 9)\n"
     ]
    }
   ],
   "metadata": {}
  },
  {
   "cell_type": "code",
   "execution_count": 7,
   "source": [
    "a = (1,2,3,4,5)\r\n",
    "b = (6,7,8,9)\r\n",
    "print(a+b)\r\n",
    "print(a*2)\r\n",
    "print(len(a))\r\n",
    "print(max(a))\r\n",
    "print(min(a))\r\n"
   ],
   "outputs": [
    {
     "output_type": "stream",
     "name": "stdout",
     "text": [
      "(1, 2, 3, 4, 5, 6, 7, 8, 9)\n",
      "(1, 2, 3, 4, 5, 1, 2, 3, 4, 5)\n",
      "5\n",
      "5\n",
      "1\n"
     ]
    }
   ],
   "metadata": {}
  },
  {
   "cell_type": "code",
   "execution_count": 4,
   "source": [
    "for i in a :\r\n",
    "    print(i)"
   ],
   "outputs": [
    {
     "output_type": "stream",
     "name": "stdout",
     "text": [
      "1\n",
      "2\n",
      "3\n",
      "4\n",
      "5\n"
     ]
    }
   ],
   "metadata": {}
  },
  {
   "cell_type": "code",
   "execution_count": 9,
   "source": [
    "b = [2,5,8,3,9]\r\n",
    "print(b)\r\n",
    "c=tuple(b)\r\n",
    "print(c)"
   ],
   "outputs": [
    {
     "output_type": "stream",
     "name": "stdout",
     "text": [
      "[2, 5, 8, 3, 9]\n",
      "(2, 5, 8, 3, 9)\n"
     ]
    }
   ],
   "metadata": {}
  },
  {
   "cell_type": "code",
   "execution_count": 18,
   "source": [
    "d = {'name' : 'raju',\r\n",
    "    'age' : 4,\r\n",
    "    'height' : 67}\r\n",
    "print(d['height'])\r\n",
    "print(len(d))\r\n",
    "print(type(d))\r\n",
    "f = d.copy()\r\n",
    "print(f)\r\n"
   ],
   "outputs": [
    {
     "output_type": "stream",
     "name": "stdout",
     "text": [
      "67\n",
      "3\n",
      "<class 'dict'>\n",
      "{'name': 'raju', 'age': 4, 'height': 67}\n"
     ]
    }
   ],
   "metadata": {}
  },
  {
   "cell_type": "code",
   "execution_count": 29,
   "source": [
    "k = ('name', 'class','roll')\r\n",
    "v = {'rabi': 45}\r\n",
    "y = dict.fromkeys(k,3)\r\n",
    "print(y.get('name'))\r\n",
    "print(y.items())\r\n",
    "print(y.keys())\r\n",
    "print(y.values())\r\n",
    "d.update(v)\r\n",
    "print(d)\r\n"
   ],
   "outputs": [
    {
     "output_type": "stream",
     "name": "stdout",
     "text": [
      "3\n",
      "dict_items([('name', 3), ('class', 3), ('roll', 3)])\n",
      "dict_keys(['name', 'class', 'roll'])\n",
      "dict_values([3, 3, 3])\n",
      "{'name': 'raju', 'age': 4, 'height': 67, 'rabi': 45}\n"
     ]
    }
   ],
   "metadata": {}
  }
 ],
 "metadata": {
  "orig_nbformat": 4,
  "language_info": {
   "name": "python",
   "version": "3.9.5",
   "mimetype": "text/x-python",
   "codemirror_mode": {
    "name": "ipython",
    "version": 3
   },
   "pygments_lexer": "ipython3",
   "nbconvert_exporter": "python",
   "file_extension": ".py"
  },
  "kernelspec": {
   "name": "python3",
   "display_name": "Python 3.9.5 64-bit"
  },
  "interpreter": {
   "hash": "63fd5069d213b44bf678585dea6b12cceca9941eaf7f819626cde1f2670de90d"
  }
 },
 "nbformat": 4,
 "nbformat_minor": 2
}